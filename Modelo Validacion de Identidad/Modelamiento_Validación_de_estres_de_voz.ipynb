{
  "nbformat": 4,
  "nbformat_minor": 0,
  "metadata": {
    "colab": {
      "name": "Modelamiento Validación de estres de voz.ipynb",
      "provenance": []
    },
    "kernelspec": {
      "name": "python3",
      "display_name": "Python 3"
    },
    "language_info": {
      "name": "python"
    }
  },
  "cells": [
    {
      "cell_type": "markdown",
      "metadata": {
        "id": "IFQOkhLvHVA9"
      },
      "source": [
        "# Modelo de validación de estrés de voz"
      ]
    },
    {
      "cell_type": "code",
      "metadata": {
        "id": "4l3Tljtso0Fb",
        "colab": {
          "base_uri": "https://localhost:8080/"
        },
        "outputId": "614a95d0-b04a-41e4-e541-05692a0c275a"
      },
      "source": [
        "!pip install keras_vggface\n",
        "!pip install keras_applications\n",
        "!pip install -U tensorflow-addons\n",
        "!pip install -q \"tqdm>=4.36.1\"\n",
        "!pip install keras-utils"
      ],
      "execution_count": 1,
      "outputs": [
        {
          "output_type": "stream",
          "text": [
            "Collecting keras_vggface\n",
            "  Downloading keras_vggface-0.6-py3-none-any.whl (8.3 kB)\n",
            "Requirement already satisfied: numpy>=1.9.1 in /usr/local/lib/python3.7/dist-packages (from keras_vggface) (1.19.5)\n",
            "Requirement already satisfied: six>=1.9.0 in /usr/local/lib/python3.7/dist-packages (from keras_vggface) (1.15.0)\n",
            "Requirement already satisfied: pillow in /usr/local/lib/python3.7/dist-packages (from keras_vggface) (7.1.2)\n",
            "Requirement already satisfied: keras in /usr/local/lib/python3.7/dist-packages (from keras_vggface) (2.4.3)\n",
            "Requirement already satisfied: scipy>=0.14 in /usr/local/lib/python3.7/dist-packages (from keras_vggface) (1.4.1)\n",
            "Requirement already satisfied: h5py in /usr/local/lib/python3.7/dist-packages (from keras_vggface) (3.1.0)\n",
            "Requirement already satisfied: pyyaml in /usr/local/lib/python3.7/dist-packages (from keras_vggface) (3.13)\n",
            "Requirement already satisfied: cached-property in /usr/local/lib/python3.7/dist-packages (from h5py->keras_vggface) (1.5.2)\n",
            "Installing collected packages: keras-vggface\n",
            "Successfully installed keras-vggface-0.6\n",
            "Collecting keras_applications\n",
            "  Downloading Keras_Applications-1.0.8-py3-none-any.whl (50 kB)\n",
            "\u001b[K     |████████████████████████████████| 50 kB 4.0 MB/s \n",
            "\u001b[?25hRequirement already satisfied: h5py in /usr/local/lib/python3.7/dist-packages (from keras_applications) (3.1.0)\n",
            "Requirement already satisfied: numpy>=1.9.1 in /usr/local/lib/python3.7/dist-packages (from keras_applications) (1.19.5)\n",
            "Requirement already satisfied: cached-property in /usr/local/lib/python3.7/dist-packages (from h5py->keras_applications) (1.5.2)\n",
            "Installing collected packages: keras-applications\n",
            "Successfully installed keras-applications-1.0.8\n",
            "Collecting tensorflow-addons\n",
            "  Downloading tensorflow_addons-0.13.0-cp37-cp37m-manylinux2010_x86_64.whl (679 kB)\n",
            "\u001b[K     |████████████████████████████████| 679 kB 6.8 MB/s \n",
            "\u001b[?25hRequirement already satisfied: typeguard>=2.7 in /usr/local/lib/python3.7/dist-packages (from tensorflow-addons) (2.7.1)\n",
            "Installing collected packages: tensorflow-addons\n",
            "Successfully installed tensorflow-addons-0.13.0\n",
            "Collecting keras-utils\n",
            "  Downloading keras-utils-1.0.13.tar.gz (2.4 kB)\n",
            "Requirement already satisfied: Keras>=2.1.5 in /usr/local/lib/python3.7/dist-packages (from keras-utils) (2.4.3)\n",
            "Requirement already satisfied: pyyaml in /usr/local/lib/python3.7/dist-packages (from Keras>=2.1.5->keras-utils) (3.13)\n",
            "Requirement already satisfied: h5py in /usr/local/lib/python3.7/dist-packages (from Keras>=2.1.5->keras-utils) (3.1.0)\n",
            "Requirement already satisfied: scipy>=0.14 in /usr/local/lib/python3.7/dist-packages (from Keras>=2.1.5->keras-utils) (1.4.1)\n",
            "Requirement already satisfied: numpy>=1.9.1 in /usr/local/lib/python3.7/dist-packages (from Keras>=2.1.5->keras-utils) (1.19.5)\n",
            "Requirement already satisfied: cached-property in /usr/local/lib/python3.7/dist-packages (from h5py->Keras>=2.1.5->keras-utils) (1.5.2)\n",
            "Building wheels for collected packages: keras-utils\n",
            "  Building wheel for keras-utils (setup.py) ... \u001b[?25l\u001b[?25hdone\n",
            "  Created wheel for keras-utils: filename=keras_utils-1.0.13-py3-none-any.whl size=2657 sha256=79a8f6440be0e2ae6c9254b565ce4cdf4e7e1743f809a2b9c06d6292b235e413\n",
            "  Stored in directory: /root/.cache/pip/wheels/d0/dd/3b/493952a5240d486a83805d65360dedadbadeae71d25e2c877f\n",
            "Successfully built keras-utils\n",
            "Installing collected packages: keras-utils\n",
            "Successfully installed keras-utils-1.0.13\n"
          ],
          "name": "stdout"
        }
      ]
    },
    {
      "cell_type": "code",
      "metadata": {
        "id": "JTgXV2MHohKy"
      },
      "source": [
        "import os \n",
        "import math   \n",
        "import matplotlib.pyplot as plt    # for plotting the images\n",
        "%matplotlib inline\n",
        "import pandas as pd\n",
        "\n",
        "import cv2     # Para capturar videos\n",
        "from keras.preprocessing import image   # for preprocessing the images\n",
        "import numpy as np    \n",
        "from keras.utils import np_utils\n",
        "#from keras.utils import plot_model\n",
        "from keras.utils.vis_utils import plot_model\n",
        "from skimage.transform import resize   # for resizing images\n",
        "\n",
        "import tensorflow as tf\n",
        "\n",
        "\n",
        "import dlib # Extraer rostro\n",
        "from google.colab.patches import cv2_imshow\n",
        "\n",
        "import joblib\n",
        "\n",
        "import keras.applications\n",
        "#callbacks\n",
        "from tensorflow.keras.callbacks import ModelCheckpoint\n",
        "from tensorflow.keras.optimizers import SGD\n"
      ],
      "execution_count": 2,
      "outputs": []
    },
    {
      "cell_type": "code",
      "metadata": {
        "id": "Yf69GozU8pyx"
      },
      "source": [
        "from tensorflow.keras.utils import to_categorical"
      ],
      "execution_count": 3,
      "outputs": []
    },
    {
      "cell_type": "code",
      "metadata": {
        "colab": {
          "base_uri": "https://localhost:8080/"
        },
        "id": "MxOelvDblVLM",
        "outputId": "4e1a4ba9-05d6-4730-9b49-eba8e75d1e6e"
      },
      "source": [
        "# Establecer conecxión con drive para extraer los datos\n",
        "from google.colab import drive #Conexión con Drive\n",
        "drive.mount('/content/drive')\n"
      ],
      "execution_count": 4,
      "outputs": [
        {
          "output_type": "stream",
          "text": [
            "Mounted at /content/drive\n"
          ],
          "name": "stdout"
        }
      ]
    },
    {
      "cell_type": "code",
      "metadata": {
        "id": "tTrws0XS2Va7"
      },
      "source": [
        "#Ubicación de los datos \n",
        "PATH = '/content/drive/MyDrive/Hackaton zinobe/Dataset/DATOS_PREPROCESADOS_AUDIO/Model_audio_img1'\n",
        "\n",
        "# lista de archivos de video\n",
        "dir_list = os.listdir(PATH)"
      ],
      "execution_count": 5,
      "outputs": []
    },
    {
      "cell_type": "markdown",
      "metadata": {
        "id": "Gu38SjsRDY5w"
      },
      "source": [
        "\n",
        "#Análisis de Audio"
      ]
    },
    {
      "cell_type": "markdown",
      "metadata": {
        "id": "Ccem3gC7Dp-s"
      },
      "source": [
        "### Carga de Datos "
      ]
    },
    {
      "cell_type": "code",
      "metadata": {
        "id": "83ePtdaYDsOX"
      },
      "source": [
        "X = joblib.load(PATH+'/X1.joblib')\n",
        "y = joblib.load(PATH+'/Y1.joblib'); y=np.array(y)\n",
        "y=to_categorical(y)"
      ],
      "execution_count": 6,
      "outputs": []
    },
    {
      "cell_type": "code",
      "metadata": {
        "id": "prpSHNGUnVI7"
      },
      "source": [
        "from sklearn.model_selection import train_test_split\n",
        "\n",
        "X_train, X_test, y_train, y_test = train_test_split(X,y,test_size=0.02)"
      ],
      "execution_count": 7,
      "outputs": []
    },
    {
      "cell_type": "code",
      "metadata": {
        "colab": {
          "base_uri": "https://localhost:8080/"
        },
        "id": "VusIbUDEn1SF",
        "outputId": "12cba7fb-c78e-4388-f13b-e8140a34c71d"
      },
      "source": [
        "print('Dimensión datos entrenamiento(X):',X_train.shape)\n",
        "print('Dimensión datos entrenamiento(y):',y_train.shape)"
      ],
      "execution_count": 8,
      "outputs": [
        {
          "output_type": "stream",
          "text": [
            "Dimensión datos entrenamiento(X): (376, 223, 217, 3)\n",
            "Dimensión datos entrenamiento(y): (376, 2)\n"
          ],
          "name": "stdout"
        }
      ]
    },
    {
      "cell_type": "code",
      "metadata": {
        "colab": {
          "base_uri": "https://localhost:8080/"
        },
        "id": "BL78EqQxoV3x",
        "outputId": "46282ce5-5f24-44d6-89d4-062fe1a2e90e"
      },
      "source": [
        "print('Dimensión datos de prueba(X):',X_test.shape)\n",
        "print('Dimensión datos de prueba(y):',y_test.shape)"
      ],
      "execution_count": 9,
      "outputs": [
        {
          "output_type": "stream",
          "text": [
            "Dimensión datos de prueba(X): (8, 223, 217, 3)\n",
            "Dimensión datos de prueba(y): (8, 2)\n"
          ],
          "name": "stdout"
        }
      ]
    },
    {
      "cell_type": "code",
      "metadata": {
        "id": "7xIlcAxXExYB"
      },
      "source": [
        "IMG_SIZE1 = X_train.shape[1] \n",
        "IMG_SIZE2 = X_train.shape[2] \n",
        "N_CLASSES = 2"
      ],
      "execution_count": 10,
      "outputs": []
    },
    {
      "cell_type": "markdown",
      "metadata": {
        "id": "QpAvZj6iFDuR"
      },
      "source": [
        "### Modelo "
      ]
    },
    {
      "cell_type": "code",
      "metadata": {
        "id": "9MGIPiRi4ThL"
      },
      "source": [
        "from keras.applications.inception_v3 import InceptionV3\n",
        "import tensorflow_addons as tfa\n",
        "\n",
        "from keras.models import Sequential\n",
        "from keras.layers import Conv2D, MaxPooling2D, Flatten, Dense, Activation, Dropout,BatchNormalization\n",
        "from keras.layers.advanced_activations import LeakyReLU\n",
        "from keras.applications.vgg19 import VGG19\n",
        "from keras.applications.mobilenet import MobileNet\n",
        "\n",
        "from tensorflow.keras.optimizers import SGD\n",
        "from tensorflow.keras.optimizers import RMSprop"
      ],
      "execution_count": 11,
      "outputs": []
    },
    {
      "cell_type": "code",
      "metadata": {
        "id": "xjzh1CYvwz4P"
      },
      "source": [
        "def inception_audio(use_imagenet=True):\n",
        "    #model = InceptionV3(include_top=False, input_shape=(IMG_SIZE1, IMG_SIZE2, 3),\n",
        "    #                                     weights='imagenet' if use_imagenet else None)\n",
        "    #model = VGG19(include_top=False, input_shape=(IMG_SIZE1, IMG_SIZE2, 3),\n",
        "    #                                      weights='imagenet' if use_imagenet else None)\n",
        "    model = MobileNet(include_top=False,input_shape=(IMG_SIZE1, IMG_SIZE2, 3),\n",
        "                                 weights='imagenet')\n",
        "    #model=Sequential()\n",
        "    new_output=Conv2D(filters=16,kernel_size=[3,3],padding='same')(model.output)\n",
        "    new_output=LeakyReLU(0.1)(new_output)\n",
        "    new_output=Conv2D(filters=32,kernel_size=[3,3],padding='same')(new_output)\n",
        "    new_output=LeakyReLU(0.1)(new_output)\n",
        "    new_output=BatchNormalization()(new_output)\n",
        "    new_output=MaxPooling2D(padding='same')(new_output)\n",
        "    new_output=Dropout(0.25)(new_output)\n",
        "    new_output=Conv2D(filters=32,kernel_size=[3,3],padding='same')(new_output)\n",
        "    new_output=LeakyReLU(0.1)(new_output)\n",
        "    new_output=Conv2D(filters=64,kernel_size=[3,3],padding='same')(new_output)\n",
        "    new_output=LeakyReLU(0.1)(new_output)\n",
        "    #new_output=BatchNormalization()(new_output)\n",
        "    new_output=MaxPooling2D(padding='same')(new_output)\n",
        "    new_output=Dropout(0.25)(new_output)\n",
        "    new_output=Flatten()(new_output)\n",
        "    new_output=Dense(256)(new_output)\n",
        "    new_output=Dropout(0.25)(new_output)\n",
        "    new_output=LeakyReLU(0.1)(new_output)\n",
        "    new_output=Dense(2)(new_output)\n",
        "    new_output=Activation(\"softmax\")(new_output)\n",
        "    #new_output = keras.layers.Dense(N_CLASSES, activation='softmax')(new_output)\n",
        "    model = keras.engine.training.Model(model.inputs, new_output)\n",
        "    return model"
      ],
      "execution_count": 24,
      "outputs": []
    },
    {
      "cell_type": "code",
      "metadata": {
        "id": "rD6cmNyjK1mv"
      },
      "source": [
        "#callbacks con umbral en el accuracy\n",
        "ACCURACY_THRESHOLD = 0.99\n",
        "\n",
        "class myCallback(tf.keras.callbacks.Callback): \n",
        "    def on_epoch_end(self, epoch, logs={}): \n",
        "        if (logs.get('accuracy') > ACCURACY_THRESHOLD):   \n",
        "          print('\\nReached %2.2f%% accuracy, so stopping training!!' %(ACCURACY_THRESHOLD*100))   \n",
        "          self.model.stop_training = True\n",
        "\n",
        "#guarda los mejores pesos para val_accuracy\n",
        "checkpoint_filepath=PATH+'/best_model_callbacks-movile1.hdf5'\n",
        "model_checkpoint_callback = ModelCheckpoint(\n",
        "    filepath=checkpoint_filepath,\n",
        "    save_weights_only=True,\n",
        "    monitor='accuracy',\n",
        "    mode='max',\n",
        "    save_best_only=True)\n",
        "\n",
        "\n",
        "callback = [myCallback(), model_checkpoint_callback]"
      ],
      "execution_count": 25,
      "outputs": []
    },
    {
      "cell_type": "code",
      "metadata": {
        "id": "EhXJ2GMED76u",
        "colab": {
          "base_uri": "https://localhost:8080/"
        },
        "outputId": "448deeee-bf0f-4747-f934-6f0df0e786c0"
      },
      "source": [
        "model = inception_audio()\n",
        "#model.summary()"
      ],
      "execution_count": 14,
      "outputs": [
        {
          "output_type": "stream",
          "text": [
            "WARNING:tensorflow:`input_shape` is undefined or non-square, or `rows` is not in [128, 160, 192, 224]. Weights for input shape (224, 224) will be loaded as the default.\n",
            "Downloading data from https://storage.googleapis.com/tensorflow/keras-applications/mobilenet/mobilenet_1_0_224_tf_no_top.h5\n",
            "17227776/17225924 [==============================] - 0s 0us/step\n",
            "17235968/17225924 [==============================] - 0s 0us/step\n"
          ],
          "name": "stdout"
        }
      ]
    },
    {
      "cell_type": "code",
      "metadata": {
        "id": "vMznS5gROh0Z"
      },
      "source": [
        "plot_model(model, to_file='model_plot.png', show_shapes=True, show_layer_names=True)"
      ],
      "execution_count": null,
      "outputs": []
    },
    {
      "cell_type": "code",
      "metadata": {
        "id": "6WEqVtnnEDqj"
      },
      "source": [
        "for layer in model.layers[:-70]:\n",
        "    if not isinstance(layer, keras.layers.BatchNormalization):\n",
        "        layer.trainable = False"
      ],
      "execution_count": 15,
      "outputs": []
    },
    {
      "cell_type": "code",
      "metadata": {
        "id": "VvG041pqEG3F",
        "colab": {
          "base_uri": "https://localhost:8080/"
        },
        "outputId": "31b3ee39-18a8-40f6-f9d9-abee110791ac"
      },
      "source": [
        "model.compile(\n",
        "    #loss='categorical_crossentropy',  \n",
        "    loss='binary_crossentropy',\n",
        "    #optimizer=keras.optimizers.Adamax(lr=1e-2), \n",
        "    optimizer=SGD(lr=0.01, decay = 1e-6, momentum=0.9, nesterov=True),\n",
        "    #optimizer=RMSprop(),\n",
        "    metrics=['accuracy']  \n",
        ")\n"
      ],
      "execution_count": 16,
      "outputs": [
        {
          "output_type": "stream",
          "text": [
            "/usr/local/lib/python3.7/dist-packages/tensorflow/python/keras/optimizer_v2/optimizer_v2.py:375: UserWarning: The `lr` argument is deprecated, use `learning_rate` instead.\n",
            "  \"The `lr` argument is deprecated, use `learning_rate` instead.\")\n"
          ],
          "name": "stderr"
        }
      ]
    },
    {
      "cell_type": "code",
      "metadata": {
        "id": "TN5Bogh9LlSu"
      },
      "source": [
        "#Mejores pesos hasta ahora\n",
        "model.load_weights(PATH+'/best_model_callbacks-movile1.hdf5')"
      ],
      "execution_count": 18,
      "outputs": []
    },
    {
      "cell_type": "code",
      "metadata": {
        "colab": {
          "base_uri": "https://localhost:8080/"
        },
        "id": "h2rs0xE5YFJk",
        "outputId": "a076cb8c-a1bc-4e72-9203-6c50fda7c51f"
      },
      "source": [
        "#prueba\n",
        "#start=time.time()\n",
        "clf = model.fit(X_train, y_train,verbose=True, \n",
        "                #validation_data=(X_test,y_test),\n",
        "                epochs=10,batch_size=32,callbacks=callback)\n",
        "#print(time.time()-start)"
      ],
      "execution_count": 145,
      "outputs": [
        {
          "output_type": "stream",
          "text": [
            "Epoch 1/10\n",
            "12/12 [==============================] - 68s 5s/step - loss: 0.7277 - accuracy: 0.5898\n",
            "Epoch 2/10\n",
            "12/12 [==============================] - 60s 5s/step - loss: 0.2477 - accuracy: 0.9317\n",
            "Epoch 3/10\n",
            "12/12 [==============================] - 60s 5s/step - loss: 0.0236 - accuracy: 1.0000\n",
            "\n",
            "Reached 99.00% accuracy, so stopping training!!\n"
          ],
          "name": "stdout"
        }
      ]
    },
    {
      "cell_type": "markdown",
      "metadata": {
        "id": "XXizxg9PFJP6"
      },
      "source": [
        "### Evaluación Modelo "
      ]
    },
    {
      "cell_type": "code",
      "metadata": {
        "id": "eySt_0VlEhep"
      },
      "source": [
        "#test_accuracy = model.evaluate()"
      ],
      "execution_count": 95,
      "outputs": []
    },
    {
      "cell_type": "code",
      "metadata": {
        "id": "YZeHzADXHZNy"
      },
      "source": [
        "y_hat = model.predict(X_test)"
      ],
      "execution_count": 19,
      "outputs": []
    },
    {
      "cell_type": "code",
      "metadata": {
        "id": "xABT-y1wZYHr"
      },
      "source": [
        "y_hat_alerta=y_hat[:,1]"
      ],
      "execution_count": 20,
      "outputs": []
    },
    {
      "cell_type": "code",
      "metadata": {
        "colab": {
          "base_uri": "https://localhost:8080/"
        },
        "id": "eKkM6mWvazXL",
        "outputId": "2bf9818a-b93c-4c78-df93-bc772e171f12"
      },
      "source": [
        "y_hat_alerta"
      ],
      "execution_count": 21,
      "outputs": [
        {
          "output_type": "execute_result",
          "data": {
            "text/plain": [
              "array([9.9976522e-01, 4.0217328e-01, 9.9689001e-01, 1.0239200e-10,\n",
              "       8.3404783e-11, 9.0643711e-02, 1.2382623e-11, 9.8343582e-09],\n",
              "      dtype=float32)"
            ]
          },
          "metadata": {
            "tags": []
          },
          "execution_count": 21
        }
      ]
    },
    {
      "cell_type": "code",
      "metadata": {
        "colab": {
          "base_uri": "https://localhost:8080/"
        },
        "id": "DiZud-S3bryT",
        "outputId": "63997aff-bcab-492f-de87-52652093920f"
      },
      "source": [
        "y_hat"
      ],
      "execution_count": 23,
      "outputs": [
        {
          "output_type": "execute_result",
          "data": {
            "text/plain": [
              "array([[2.3476777e-04, 9.9976522e-01],\n",
              "       [5.9782672e-01, 4.0217328e-01],\n",
              "       [3.1100449e-03, 9.9689001e-01],\n",
              "       [1.0000000e+00, 1.0239200e-10],\n",
              "       [1.0000000e+00, 8.3404783e-11],\n",
              "       [9.0935630e-01, 9.0643711e-02],\n",
              "       [1.0000000e+00, 1.2382623e-11],\n",
              "       [1.0000000e+00, 9.8343582e-09]], dtype=float32)"
            ]
          },
          "metadata": {
            "tags": []
          },
          "execution_count": 23
        }
      ]
    },
    {
      "cell_type": "code",
      "metadata": {
        "colab": {
          "base_uri": "https://localhost:8080/"
        },
        "id": "ZQaFHDhDbmg6",
        "outputId": "0846c65c-6a07-431c-87b6-70e92c9fef5e"
      },
      "source": [
        "y_test"
      ],
      "execution_count": 22,
      "outputs": [
        {
          "output_type": "execute_result",
          "data": {
            "text/plain": [
              "array([[0., 1.],\n",
              "       [0., 1.],\n",
              "       [0., 1.],\n",
              "       [1., 0.],\n",
              "       [1., 0.],\n",
              "       [0., 1.],\n",
              "       [1., 0.],\n",
              "       [1., 0.]], dtype=float32)"
            ]
          },
          "metadata": {
            "tags": []
          },
          "execution_count": 22
        }
      ]
    },
    {
      "cell_type": "markdown",
      "metadata": {
        "id": "ztIf0bWgFN2E"
      },
      "source": [
        "* Matriz de Confusión"
      ]
    },
    {
      "cell_type": "code",
      "metadata": {
        "id": "b3bWNcrpAcIZ"
      },
      "source": [
        "from sklearn.metrics import confusion_matrix #matriz de confusión\n",
        "\n",
        "def plot_confusion_matrix(cm,\n",
        "                          target_names,\n",
        "                          title='Confusion matrix',\n",
        "                          cmap=None,\n",
        "                          normalize=True):\n",
        "    \"\"\"\n",
        "    given a sklearn confusion matrix (cm), make a nice plot\n",
        "\n",
        "    Arguments\n",
        "    ---------\n",
        "    cm:           confusion matrix from sklearn.metrics.confusion_matrix\n",
        "\n",
        "    target_names: given classification classes such as [0, 1, 2]\n",
        "                  the class names, for example: ['high', 'medium', 'low']\n",
        "\n",
        "    title:        the text to display at the top of the matrix\n",
        "\n",
        "    cmap:         the gradient of the values displayed from matplotlib.pyplot.cm\n",
        "                  see http://matplotlib.org/examples/color/colormaps_reference.html\n",
        "                  plt.get_cmap('jet') or plt.cm.Blues\n",
        "\n",
        "    normalize:    If False, plot the raw numbers\n",
        "                  If True, plot the proportions\n",
        "\n",
        "    Usage\n",
        "    -----\n",
        "    plot_confusion_matrix(cm           = cm,                  # confusion matrix created by\n",
        "                                                              # sklearn.metrics.confusion_matrix\n",
        "                          normalize    = True,                # show proportions\n",
        "                          target_names = y_labels_vals,       # list of names of the classes\n",
        "                          title        = best_estimator_name) # title of graph\n",
        "\n",
        "    Citiation\n",
        "    ---------\n",
        "    http://scikit-learn.org/stable/auto_examples/model_selection/plot_confusion_matrix.html\n",
        "\n",
        "    \"\"\"\n",
        "\n",
        "    accuracy = np.trace(cm) / float(np.sum(cm))\n",
        "    misclass = 1 - accuracy\n",
        "\n",
        "    if cmap is None:\n",
        "        cmap = plt.get_cmap('Blues')\n",
        "\n",
        "    plt.figure(figsize=(8, 6))\n",
        "    plt.imshow(cm, interpolation='nearest', cmap=cmap)\n",
        "    plt.title(title)\n",
        "    plt.colorbar()\n",
        "\n",
        "    if target_names is not None:\n",
        "        tick_marks = np.arange(len(target_names))\n",
        "        plt.xticks(tick_marks, target_names, rotation=45)\n",
        "        plt.yticks(tick_marks, target_names)\n",
        "\n",
        "    if normalize:\n",
        "        cm = cm.astype('float') / cm.sum(axis=1)[:, np.newaxis]\n",
        "\n",
        "\n",
        "    thresh = cm.max() / 1.5 if normalize else cm.max() / 2\n",
        "    #for i, j in itertools.product(range(cm.shape[0]), range(cm.shape[1])):\n",
        "    for i in range (cm.shape[0]):\n",
        "      for j in range (cm.shape[1]):\n",
        "        if normalize:\n",
        "            plt.text(j, i, \"{:0.4f}\".format(cm[i, j]),\n",
        "                     horizontalalignment=\"center\",\n",
        "                     color=\"white\" if cm[i, j] > thresh else \"black\")\n",
        "        else:\n",
        "            plt.text(j, i, \"{:,}\".format(cm[i, j]),\n",
        "                     horizontalalignment=\"center\",\n",
        "                     color=\"white\" if cm[i, j] > thresh else \"black\")\n",
        "\n",
        "\n",
        "    plt.tight_layout()\n",
        "    plt.ylabel('True label')\n",
        "    plt.xlabel('Predicted label\\naccuracy={:0.4f}; misclass={:0.4f}'.format(accuracy, misclass))\n",
        "    plt.show()"
      ],
      "execution_count": 26,
      "outputs": []
    },
    {
      "cell_type": "code",
      "metadata": {
        "id": "jIeCGIAHaESn"
      },
      "source": [
        "y_test_alerta=y_test[:,1]"
      ],
      "execution_count": 28,
      "outputs": []
    },
    {
      "cell_type": "code",
      "metadata": {
        "colab": {
          "base_uri": "https://localhost:8080/"
        },
        "id": "_w__J0_KauCn",
        "outputId": "f4d7b838-840e-4b28-c6ba-34d5dbb874cd"
      },
      "source": [
        "y_hat "
      ],
      "execution_count": 162,
      "outputs": [
        {
          "output_type": "execute_result",
          "data": {
            "text/plain": [
              "['Correcto',\n",
              " 'Correcto',\n",
              " 'Correcto',\n",
              " 'Correcto',\n",
              " 'Correcto',\n",
              " 'Correcto',\n",
              " 'Correcto',\n",
              " 'Correcto']"
            ]
          },
          "metadata": {
            "tags": []
          },
          "execution_count": 162
        }
      ]
    },
    {
      "cell_type": "code",
      "metadata": {
        "id": "0Zyn3yddFQWj"
      },
      "source": [
        "dic  =  {0:'Correcto', 1:'Alerta'}\n",
        "\n",
        "y_t = [dic[letter] for letter in y_test_alerta]\n",
        "y_hat = y_hat_alerta > 0.4\n",
        "y_hat = [dic[letter] for letter in y_hat]\n",
        "cmat = confusion_matrix(y_t, y_hat, labels = list(dic.values()))"
      ],
      "execution_count": 37,
      "outputs": []
    },
    {
      "cell_type": "code",
      "metadata": {
        "id": "-KQ3aOgjFUun",
        "colab": {
          "base_uri": "https://localhost:8080/",
          "height": 466
        },
        "outputId": "b565e574-7bf1-40e0-c7f8-507eff458b49"
      },
      "source": [
        "plot_confusion_matrix(cm = cmat, \n",
        "normalize = False,\n",
        "target_names = list(dic.values()),\n",
        "title = \"Confusion Matrix\")"
      ],
      "execution_count": 38,
      "outputs": [
        {
          "output_type": "display_data",
          "data": {
            "image/png": "[encoded data removed]",
            "text/plain": [
              "<Figure size 576x432 with 2 Axes>"
            ]
          },
          "metadata": {
            "tags": [],
            "needs_background": "light"
          }
        }
      ]
    }
  ]
}